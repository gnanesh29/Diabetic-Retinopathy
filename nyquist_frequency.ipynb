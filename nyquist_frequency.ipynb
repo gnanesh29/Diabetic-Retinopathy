{
 "cells": [
  {
   "cell_type": "code",
   "execution_count": 5,
   "id": "f02df44f",
   "metadata": {},
   "outputs": [
    {
     "name": "stdout",
     "output_type": "stream",
     "text": [
      "Nyquist Frequency (X): 0.002232142857142857 cycles per unit distance\n",
      "Nyquist Frequency (Y): 0.002232142857142857 cycles per unit distance\n"
     ]
    }
   ],
   "source": [
    "import cv2\n",
    "import numpy as np\n",
    "\n",
    "def nyquist_frequency(image, pixel_size):\n",
    "    # Calculate the spatial frequencies in the horizontal and vertical directions\n",
    "    rows, cols = image.shape[:2]\n",
    "    freq_x = np.fft.fftfreq(cols, d=pixel_size)\n",
    "    freq_y = np.fft.fftfreq(rows, d=pixel_size)\n",
    "\n",
    "    # Find the Nyquist frequency for both directions\n",
    "    nyquist_x = 0.5 / pixel_size\n",
    "    nyquist_y = 0.5 / pixel_size\n",
    "\n",
    "    return nyquist_x, nyquist_y\n",
    "\n",
    "# Example usage:\n",
    "# Read the image\n",
    "image_path = \"224_blur.jpeg\"  # Replace with the actual path to your image\n",
    "image = cv2.imread(image_path, cv2.IMREAD_GRAYSCALE)\n",
    "\n",
    "# Check if the image is loaded successfully\n",
    "if image is None:\n",
    "    print(f\"Error: Unable to load the image from {image_path}\")\n",
    "else:\n",
    "    pixel_size = 224  # Replace this with the actual pixel size of your image\n",
    "\n",
    "    nyquist_x, nyquist_y = nyquist_frequency(image, pixel_size)\n",
    "\n",
    "    print(f\"Nyquist Frequency (X): {nyquist_x} cycles per unit distance\")\n",
    "    print(f\"Nyquist Frequency (Y): {nyquist_y} cycles per unit distance\")\n",
    "\n",
    "\n"
   ]
  },
  {
   "cell_type": "code",
   "execution_count": 6,
   "id": "117a33c6",
   "metadata": {},
   "outputs": [
    {
     "name": "stdout",
     "output_type": "stream",
     "text": [
      "Nyquist Frequency (X): 0.004464285714285714 cycles per unit distance\n",
      "Nyquist Frequency (Y): 0.004464285714285714 cycles per unit distance\n"
     ]
    }
   ],
   "source": [
    "import cv2\n",
    "import numpy as np\n",
    "\n",
    "def nyquist_frequency(image, pixel_size):\n",
    "    # Calculate the spatial frequencies in the horizontal and vertical directions\n",
    "    rows, cols = image.shape[:2]\n",
    "    freq_x = np.fft.fftfreq(cols, d=pixel_size)\n",
    "    freq_y = np.fft.fftfreq(rows, d=pixel_size)\n",
    "\n",
    "    # Find the Nyquist frequency for both directions\n",
    "    nyquist_x = 0.5 / pixel_size\n",
    "    nyquist_y = 0.5 / pixel_size\n",
    "\n",
    "    return nyquist_x, nyquist_y\n",
    "\n",
    "# Example usage:\n",
    "# Read the image\n",
    "image_path = \"112_blur.jpeg\"  # Replace with the actual path to your image\n",
    "image = cv2.imread(image_path, cv2.IMREAD_GRAYSCALE)\n",
    "\n",
    "# Check if the image is loaded successfully\n",
    "if image is None:\n",
    "    print(f\"Error: Unable to load the image from {image_path}\")\n",
    "else:\n",
    "    pixel_size = 112  # Replace this with the actual pixel size of your image\n",
    "\n",
    "    nyquist_x, nyquist_y = nyquist_frequency(image, pixel_size)\n",
    "\n",
    "    print(f\"Nyquist Frequency (X): {nyquist_x} cycles per unit distance\")\n",
    "    print(f\"Nyquist Frequency (Y): {nyquist_y} cycles per unit distance\")\n",
    "\n",
    "\n"
   ]
  },
  {
   "cell_type": "code",
   "execution_count": 7,
   "id": "a8326b45",
   "metadata": {},
   "outputs": [
    {
     "name": "stdout",
     "output_type": "stream",
     "text": [
      "Nyquist Frequency (X): 0.008928571428571428 cycles per unit distance\n",
      "Nyquist Frequency (Y): 0.008928571428571428 cycles per unit distance\n"
     ]
    }
   ],
   "source": [
    "import cv2\n",
    "import numpy as np\n",
    "\n",
    "def nyquist_frequency(image, pixel_size):\n",
    "    # Calculate the spatial frequencies in the horizontal and vertical directions\n",
    "    rows, cols = image.shape[:2]\n",
    "    freq_x = np.fft.fftfreq(cols, d=pixel_size)\n",
    "    freq_y = np.fft.fftfreq(rows, d=pixel_size)\n",
    "\n",
    "    # Find the Nyquist frequency for both directions\n",
    "    nyquist_x = 0.5 / pixel_size\n",
    "    nyquist_y = 0.5 / pixel_size\n",
    "\n",
    "    return nyquist_x, nyquist_y\n",
    "\n",
    "# Example usage:\n",
    "# Read the image\n",
    "image_path = \"56_blur.jpeg\"  # Replace with the actual path to your image\n",
    "image = cv2.imread(image_path, cv2.IMREAD_GRAYSCALE)\n",
    "\n",
    "# Check if the image is loaded successfully\n",
    "if image is None:\n",
    "    print(f\"Error: Unable to load the image from {image_path}\")\n",
    "else:\n",
    "    pixel_size = 56  # Replace this with the actual pixel size of your image\n",
    "\n",
    "    nyquist_x, nyquist_y = nyquist_frequency(image, pixel_size)\n",
    "\n",
    "    print(f\"Nyquist Frequency (X): {nyquist_x} cycles per unit distance\")\n",
    "    print(f\"Nyquist Frequency (Y): {nyquist_y} cycles per unit distance\")\n",
    "\n",
    "\n"
   ]
  },
  {
   "cell_type": "code",
   "execution_count": 8,
   "id": "58673d36",
   "metadata": {},
   "outputs": [
    {
     "name": "stdout",
     "output_type": "stream",
     "text": [
      "Nyquist Frequency (X): 0.017857142857142856 cycles per unit distance\n",
      "Nyquist Frequency (Y): 0.017857142857142856 cycles per unit distance\n"
     ]
    }
   ],
   "source": [
    "import cv2\n",
    "import numpy as np\n",
    "\n",
    "def nyquist_frequency(image, pixel_size):\n",
    "    # Calculate the spatial frequencies in the horizontal and vertical directions\n",
    "    rows, cols = image.shape[:2]\n",
    "    freq_x = np.fft.fftfreq(cols, d=pixel_size)\n",
    "    freq_y = np.fft.fftfreq(rows, d=pixel_size)\n",
    "\n",
    "    # Find the Nyquist frequency for both directions\n",
    "    nyquist_x = 0.5 / pixel_size\n",
    "    nyquist_y = 0.5 / pixel_size\n",
    "\n",
    "    return nyquist_x, nyquist_y\n",
    "\n",
    "# Example usage:\n",
    "# Read the image\n",
    "image_path = \"28_blur.jpeg\"  # Replace with the actual path to your image\n",
    "image = cv2.imread(image_path, cv2.IMREAD_GRAYSCALE)\n",
    "\n",
    "# Check if the image is loaded successfully\n",
    "if image is None:\n",
    "    print(f\"Error: Unable to load the image from {image_path}\")\n",
    "else:\n",
    "    pixel_size = 28  # Replace this with the actual pixel size of your image\n",
    "\n",
    "    nyquist_x, nyquist_y = nyquist_frequency(image, pixel_size)\n",
    "\n",
    "    print(f\"Nyquist Frequency (X): {nyquist_x} cycles per unit distance\")\n",
    "    print(f\"Nyquist Frequency (Y): {nyquist_y} cycles per unit distance\")\n",
    "\n",
    "\n"
   ]
  },
  {
   "cell_type": "code",
   "execution_count": 9,
   "id": "77b5a5bb",
   "metadata": {},
   "outputs": [
    {
     "name": "stdout",
     "output_type": "stream",
     "text": [
      "Nyquist Frequency (X): 0.03571428571428571 cycles per unit distance\n",
      "Nyquist Frequency (Y): 0.03571428571428571 cycles per unit distance\n"
     ]
    }
   ],
   "source": [
    "import cv2\n",
    "import numpy as np\n",
    "\n",
    "def nyquist_frequency(image, pixel_size):\n",
    "    # Calculate the spatial frequencies in the horizontal and vertical directions\n",
    "    rows, cols = image.shape[:2]\n",
    "    freq_x = np.fft.fftfreq(cols, d=pixel_size)\n",
    "    freq_y = np.fft.fftfreq(rows, d=pixel_size)\n",
    "\n",
    "    # Find the Nyquist frequency for both directions\n",
    "    nyquist_x = 0.5 / pixel_size\n",
    "    nyquist_y = 0.5 / pixel_size\n",
    "\n",
    "    return nyquist_x, nyquist_y\n",
    "\n",
    "# Example usage:\n",
    "# Read the image\n",
    "image_path = \"14_blur.jpeg\"  # Replace with the actual path to your image\n",
    "image = cv2.imread(image_path, cv2.IMREAD_GRAYSCALE)\n",
    "\n",
    "# Check if the image is loaded successfully\n",
    "if image is None:\n",
    "    print(f\"Error: Unable to load the image from {image_path}\")\n",
    "else:\n",
    "    pixel_size = 14  # Replace this with the actual pixel size of your image\n",
    "\n",
    "    nyquist_x, nyquist_y = nyquist_frequency(image, pixel_size)\n",
    "\n",
    "    print(f\"Nyquist Frequency (X): {nyquist_x} cycles per unit distance\")\n",
    "    print(f\"Nyquist Frequency (Y): {nyquist_y} cycles per unit distance\")\n",
    "\n",
    "\n"
   ]
  },
  {
   "cell_type": "code",
   "execution_count": 10,
   "id": "b1e9aff2",
   "metadata": {},
   "outputs": [
    {
     "name": "stdout",
     "output_type": "stream",
     "text": [
      "Nyquist Frequency (X): 0.07142857142857142 cycles per unit distance\n",
      "Nyquist Frequency (Y): 0.07142857142857142 cycles per unit distance\n"
     ]
    }
   ],
   "source": [
    "import cv2\n",
    "import numpy as np\n",
    "\n",
    "def nyquist_frequency(image, pixel_size):\n",
    "    # Calculate the spatial frequencies in the horizontal and vertical directions\n",
    "    rows, cols = image.shape[:2]\n",
    "    freq_x = np.fft.fftfreq(cols, d=pixel_size)\n",
    "    freq_y = np.fft.fftfreq(rows, d=pixel_size)\n",
    "\n",
    "    # Find the Nyquist frequency for both directions\n",
    "    nyquist_x = 0.5 / pixel_size\n",
    "    nyquist_y = 0.5 / pixel_size\n",
    "\n",
    "    return nyquist_x, nyquist_y\n",
    "\n",
    "# Example usage:\n",
    "# Read the image\n",
    "image_path = \"7_blur.jpeg\"  # Replace with the actual path to your image\n",
    "image = cv2.imread(image_path, cv2.IMREAD_GRAYSCALE)\n",
    "\n",
    "# Check if the image is loaded successfully\n",
    "if image is None:\n",
    "    print(f\"Error: Unable to load the image from {image_path}\")\n",
    "else:\n",
    "    pixel_size = 7  # Replace this with the actual pixel size of your image\n",
    "\n",
    "    nyquist_x, nyquist_y = nyquist_frequency(image, pixel_size)\n",
    "\n",
    "    print(f\"Nyquist Frequency (X): {nyquist_x} cycles per unit distance\")\n",
    "    print(f\"Nyquist Frequency (Y): {nyquist_y} cycles per unit distance\")\n",
    "\n",
    "\n"
   ]
  },
  {
   "cell_type": "code",
   "execution_count": null,
   "id": "fd5b12f9",
   "metadata": {},
   "outputs": [],
   "source": []
  }
 ],
 "metadata": {
  "kernelspec": {
   "display_name": "Python 3 (ipykernel)",
   "language": "python",
   "name": "python3"
  },
  "language_info": {
   "codemirror_mode": {
    "name": "ipython",
    "version": 3
   },
   "file_extension": ".py",
   "mimetype": "text/x-python",
   "name": "python",
   "nbconvert_exporter": "python",
   "pygments_lexer": "ipython3",
   "version": "3.9.13"
  }
 },
 "nbformat": 4,
 "nbformat_minor": 5
}
